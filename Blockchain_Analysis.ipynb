{
 "cells": [
  {
   "cell_type": "markdown",
   "metadata": {
    "slideshow": {
     "slide_type": "-"
    }
   },
   "source": [
    "### Bitcoin Analysis Using Blockchain.info and BitcoinWhosWho"
   ]
  },
  {
   "cell_type": "markdown",
   "metadata": {},
   "source": [
    "In the process of performing my initial blockchain research, I wanted to work analysis of the Bitcoin blockchain into my larger research project. However, "
   ]
  },
  {
   "cell_type": "code",
   "execution_count": 1,
   "metadata": {
    "collapsed": true
   },
   "outputs": [],
   "source": [
    "# import library for blockchain.info API\n",
    "from bitcoin import *"
   ]
  },
  {
   "cell_type": "code",
   "execution_count": 2,
   "metadata": {},
   "outputs": [
    {
     "name": "stderr",
     "output_type": "stream",
     "text": [
      "Fetching more transactions... 50\n",
      "Fetching more transactions... 100\n",
      "Fetching more transactions... 150\n",
      "Fetching more transactions... 200\n",
      "Fetching more transactions... 250\n",
      "Fetching more transactions... 300\n",
      "Fetching more transactions... 350\n",
      "Fetching more transactions... 400\n",
      "Fetching more transactions... 450\n",
      "Fetching more transactions... 500\n",
      "Fetching more transactions... 550\n",
      "Fetching more transactions... 600\n",
      "Fetching more transactions... 650\n",
      "Fetching more transactions... 700\n"
     ]
    },
    {
     "data": {
      "text/plain": [
       "'\\naddress is the queried address on the Bitcoin blockchain\\nblock_height is the block upon which this transaction occured\\noutput is the transaction hash for the transfer of Bitcoin\\nvalue is the amount of Bitcoin in Satoshis (100 million Satoshis to 1 Bitcoin)\\n\\nI wanted to exams this address which allegedly belonged to Dread Pirate Roberts:\\nhttps://blockchain.info/address/1FfmbHfnpaZjKFvyi1okTjJJusN455paPH\\n\\n1FfmbHfnpaZjKFvyi1okTjJJusN455paPH\\n\\nThese are other potential projects:\\n\\n12cUHS93ZLNHqGmnUNgFecNNowYwVNy2Gi\\n1AF9hWRVHF2kdVCtrxmFUjLzB6tNuYqqpX\\n'"
      ]
     },
     "execution_count": 2,
     "metadata": {},
     "output_type": "execute_result"
    }
   ],
   "source": [
    "# now we're going to look as a Bitcoin address\n",
    "# pull the history for the address's transactions\n",
    "hist = history('1FfmbHfnpaZjKFvyi1okTjJJusN455paPH')\n",
    "\n",
    "'''\n",
    "address is the queried address on the Bitcoin blockchain\n",
    "block_height is the block upon which this transaction occured\n",
    "output is the transaction hash for the transfer of Bitcoin\n",
    "value is the amount of Bitcoin in Satoshis (100 million Satoshis to 1 Bitcoin)\n",
    "\n",
    "I wanted to exams this address which allegedly belonged to Dread Pirate Roberts:\n",
    "https://blockchain.info/address/1FfmbHfnpaZjKFvyi1okTjJJusN455paPH\n",
    "\n",
    "1FfmbHfnpaZjKFvyi1okTjJJusN455paPH\n",
    "\n",
    "These are other potential projects:\n",
    "\n",
    "1i7cZdoE9NcHSdAL5eGjmTJbBVqeQDwgw # DPR seized coins 2\n",
    "1AypmAi6ZXfhbGRWDpNYZQCjREGpkW5E6y # other address used by FBI\n",
    "'''"
   ]
  },
  {
   "cell_type": "code",
   "execution_count": 3,
   "metadata": {},
   "outputs": [
    {
     "data": {
      "text/plain": [
       "737"
      ]
     },
     "execution_count": 3,
     "metadata": {},
     "output_type": "execute_result"
    }
   ],
   "source": [
    "len(hist)"
   ]
  },
  {
   "cell_type": "markdown",
   "metadata": {},
   "source": [
    "### Analysis of address history"
   ]
  },
  {
   "cell_type": "code",
   "execution_count": 4,
   "metadata": {
    "collapsed": true
   },
   "outputs": [],
   "source": [
    "# import the libraries for analysis of Bitcoin data\n",
    "from pandas.io.json import json_normalize\n",
    "import pandas as pd"
   ]
  },
  {
   "cell_type": "code",
   "execution_count": 5,
   "metadata": {},
   "outputs": [
    {
     "data": {
      "text/html": [
       "<div>\n",
       "<style scoped>\n",
       "    .dataframe tbody tr th:only-of-type {\n",
       "        vertical-align: middle;\n",
       "    }\n",
       "\n",
       "    .dataframe tbody tr th {\n",
       "        vertical-align: top;\n",
       "    }\n",
       "\n",
       "    .dataframe thead th {\n",
       "        text-align: right;\n",
       "    }\n",
       "</style>\n",
       "<table border=\"1\" class=\"dataframe\">\n",
       "  <thead>\n",
       "    <tr style=\"text-align: right;\">\n",
       "      <th></th>\n",
       "      <th>address</th>\n",
       "      <th>block_height</th>\n",
       "      <th>output</th>\n",
       "      <th>spend</th>\n",
       "      <th>value</th>\n",
       "    </tr>\n",
       "  </thead>\n",
       "  <tbody>\n",
       "    <tr>\n",
       "      <th>0</th>\n",
       "      <td>1FfmbHfnpaZjKFvyi1okTjJJusN455paPH</td>\n",
       "      <td>265915</td>\n",
       "      <td>7926f73eb5c233f90ffd060686c02d6cff49f66ad33b5d...</td>\n",
       "      <td>50bd7b27e3f55ceb68738acfd91352e3706556d9e111ea...</td>\n",
       "      <td>32400000000</td>\n",
       "    </tr>\n",
       "    <tr>\n",
       "      <th>1</th>\n",
       "      <td>1FfmbHfnpaZjKFvyi1okTjJJusN455paPH</td>\n",
       "      <td>265873</td>\n",
       "      <td>7aa5f401afc6392a17726e7750b1df2294afc36e00e38a...</td>\n",
       "      <td>796684ce2c46c73eec4e67a4bd530603c2e05298550801...</td>\n",
       "      <td>32400000000</td>\n",
       "    </tr>\n",
       "    <tr>\n",
       "      <th>2</th>\n",
       "      <td>1FfmbHfnpaZjKFvyi1okTjJJusN455paPH</td>\n",
       "      <td>265886</td>\n",
       "      <td>ca7c7bcf9001355dc4e8dc8248e0b964332662a2e34151...</td>\n",
       "      <td>796684ce2c46c73eec4e67a4bd530603c2e05298550801...</td>\n",
       "      <td>32400000000</td>\n",
       "    </tr>\n",
       "    <tr>\n",
       "      <th>3</th>\n",
       "      <td>1FfmbHfnpaZjKFvyi1okTjJJusN455paPH</td>\n",
       "      <td>269637</td>\n",
       "      <td>534bd2f7d7962c4b1e86ba511a4b08b86b7dcdc7451254...</td>\n",
       "      <td>50bd7b27e3f55ceb68738acfd91352e3706556d9e111ea...</td>\n",
       "      <td>10000</td>\n",
       "    </tr>\n",
       "    <tr>\n",
       "      <th>4</th>\n",
       "      <td>1FfmbHfnpaZjKFvyi1okTjJJusN455paPH</td>\n",
       "      <td>265896</td>\n",
       "      <td>3701e153885d9529bbe886e630e65aaaf906e86714c5a5...</td>\n",
       "      <td>50bd7b27e3f55ceb68738acfd91352e3706556d9e111ea...</td>\n",
       "      <td>32400000000</td>\n",
       "    </tr>\n",
       "  </tbody>\n",
       "</table>\n",
       "</div>"
      ],
      "text/plain": [
       "                              address  block_height  \\\n",
       "0  1FfmbHfnpaZjKFvyi1okTjJJusN455paPH        265915   \n",
       "1  1FfmbHfnpaZjKFvyi1okTjJJusN455paPH        265873   \n",
       "2  1FfmbHfnpaZjKFvyi1okTjJJusN455paPH        265886   \n",
       "3  1FfmbHfnpaZjKFvyi1okTjJJusN455paPH        269637   \n",
       "4  1FfmbHfnpaZjKFvyi1okTjJJusN455paPH        265896   \n",
       "\n",
       "                                              output  \\\n",
       "0  7926f73eb5c233f90ffd060686c02d6cff49f66ad33b5d...   \n",
       "1  7aa5f401afc6392a17726e7750b1df2294afc36e00e38a...   \n",
       "2  ca7c7bcf9001355dc4e8dc8248e0b964332662a2e34151...   \n",
       "3  534bd2f7d7962c4b1e86ba511a4b08b86b7dcdc7451254...   \n",
       "4  3701e153885d9529bbe886e630e65aaaf906e86714c5a5...   \n",
       "\n",
       "                                               spend        value  \n",
       "0  50bd7b27e3f55ceb68738acfd91352e3706556d9e111ea...  32400000000  \n",
       "1  796684ce2c46c73eec4e67a4bd530603c2e05298550801...  32400000000  \n",
       "2  796684ce2c46c73eec4e67a4bd530603c2e05298550801...  32400000000  \n",
       "3  50bd7b27e3f55ceb68738acfd91352e3706556d9e111ea...        10000  \n",
       "4  50bd7b27e3f55ceb68738acfd91352e3706556d9e111ea...  32400000000  "
      ]
     },
     "execution_count": 5,
     "metadata": {},
     "output_type": "execute_result"
    }
   ],
   "source": [
    "# bring API output into dataframe\n",
    "hist_df = json_normalize(hist)\n",
    "hist_df.head(5)"
   ]
  },
  {
   "cell_type": "code",
   "execution_count": 8,
   "metadata": {},
   "outputs": [
    {
     "data": {
      "text/plain": [
       "1FfmbHfnpaZjKFvyi1okTjJJusN455paPH    737\n",
       "Name: address, dtype: int64"
      ]
     },
     "execution_count": 8,
     "metadata": {},
     "output_type": "execute_result"
    }
   ],
   "source": [
    "# Create a copy of the original DPR address query\n",
    "df = hist_df.copy()\n",
    "# Verify the number of transactions\n",
    "df.address.value_counts()"
   ]
  },
  {
   "cell_type": "code",
   "execution_count": 9,
   "metadata": {
    "scrolled": true
   },
   "outputs": [
    {
     "data": {
      "text/plain": [
       "50bd7b27e3f55ceb68738acfd91352e3706556d9e111ea40818bfb2b431dc45b:169    1\n",
       "50bd7b27e3f55ceb68738acfd91352e3706556d9e111ea40818bfb2b431dc45b:45     1\n",
       "796684ce2c46c73eec4e67a4bd530603c2e0529855080187cde241a6b06c2a5b:349    1\n",
       "50bd7b27e3f55ceb68738acfd91352e3706556d9e111ea40818bfb2b431dc45b:28     1\n",
       "50bd7b27e3f55ceb68738acfd91352e3706556d9e111ea40818bfb2b431dc45b:159    1\n",
       "Name: spend, dtype: int64"
      ]
     },
     "execution_count": 9,
     "metadata": {},
     "output_type": "execute_result"
    }
   ],
   "source": [
    "# examine transactions made by this account\n",
    "spend_count = df.spend.value_counts()\n",
    "spend_count.head()"
   ]
  },
  {
   "cell_type": "code",
   "execution_count": 10,
   "metadata": {
    "scrolled": true
   },
   "outputs": [
    {
     "data": {
      "text/plain": [
       "598"
      ]
     },
     "execution_count": 10,
     "metadata": {},
     "output_type": "execute_result"
    }
   ],
   "source": [
    "# examine unique transaction:sequence number\n",
    "len(df.spend.unique())"
   ]
  },
  {
   "cell_type": "code",
   "execution_count": 11,
   "metadata": {},
   "outputs": [],
   "source": [
    "# split the transaction hash from the sequence number \n",
    "df['spend_hash'] = df['spend'].str.split(':').str[0]\n",
    "df['spend_post'] = df['spend'].str.split(':').str[1]"
   ]
  },
  {
   "cell_type": "code",
   "execution_count": 12,
   "metadata": {},
   "outputs": [
    {
     "data": {
      "text/html": [
       "<div>\n",
       "<style scoped>\n",
       "    .dataframe tbody tr th:only-of-type {\n",
       "        vertical-align: middle;\n",
       "    }\n",
       "\n",
       "    .dataframe tbody tr th {\n",
       "        vertical-align: top;\n",
       "    }\n",
       "\n",
       "    .dataframe thead th {\n",
       "        text-align: right;\n",
       "    }\n",
       "</style>\n",
       "<table border=\"1\" class=\"dataframe\">\n",
       "  <thead>\n",
       "    <tr style=\"text-align: right;\">\n",
       "      <th></th>\n",
       "      <th>address</th>\n",
       "      <th>block_height</th>\n",
       "      <th>output</th>\n",
       "      <th>spend</th>\n",
       "      <th>value</th>\n",
       "      <th>spend_hash</th>\n",
       "      <th>spend_post</th>\n",
       "    </tr>\n",
       "  </thead>\n",
       "  <tbody>\n",
       "    <tr>\n",
       "      <th>0</th>\n",
       "      <td>1FfmbHfnpaZjKFvyi1okTjJJusN455paPH</td>\n",
       "      <td>265915</td>\n",
       "      <td>7926f73eb5c233f90ffd060686c02d6cff49f66ad33b5d...</td>\n",
       "      <td>50bd7b27e3f55ceb68738acfd91352e3706556d9e111ea...</td>\n",
       "      <td>32400000000</td>\n",
       "      <td>50bd7b27e3f55ceb68738acfd91352e3706556d9e111ea...</td>\n",
       "      <td>153</td>\n",
       "    </tr>\n",
       "    <tr>\n",
       "      <th>1</th>\n",
       "      <td>1FfmbHfnpaZjKFvyi1okTjJJusN455paPH</td>\n",
       "      <td>265873</td>\n",
       "      <td>7aa5f401afc6392a17726e7750b1df2294afc36e00e38a...</td>\n",
       "      <td>796684ce2c46c73eec4e67a4bd530603c2e05298550801...</td>\n",
       "      <td>32400000000</td>\n",
       "      <td>796684ce2c46c73eec4e67a4bd530603c2e05298550801...</td>\n",
       "      <td>368</td>\n",
       "    </tr>\n",
       "    <tr>\n",
       "      <th>2</th>\n",
       "      <td>1FfmbHfnpaZjKFvyi1okTjJJusN455paPH</td>\n",
       "      <td>265886</td>\n",
       "      <td>ca7c7bcf9001355dc4e8dc8248e0b964332662a2e34151...</td>\n",
       "      <td>796684ce2c46c73eec4e67a4bd530603c2e05298550801...</td>\n",
       "      <td>32400000000</td>\n",
       "      <td>796684ce2c46c73eec4e67a4bd530603c2e05298550801...</td>\n",
       "      <td>111</td>\n",
       "    </tr>\n",
       "    <tr>\n",
       "      <th>3</th>\n",
       "      <td>1FfmbHfnpaZjKFvyi1okTjJJusN455paPH</td>\n",
       "      <td>269637</td>\n",
       "      <td>534bd2f7d7962c4b1e86ba511a4b08b86b7dcdc7451254...</td>\n",
       "      <td>50bd7b27e3f55ceb68738acfd91352e3706556d9e111ea...</td>\n",
       "      <td>10000</td>\n",
       "      <td>50bd7b27e3f55ceb68738acfd91352e3706556d9e111ea...</td>\n",
       "      <td>26</td>\n",
       "    </tr>\n",
       "    <tr>\n",
       "      <th>4</th>\n",
       "      <td>1FfmbHfnpaZjKFvyi1okTjJJusN455paPH</td>\n",
       "      <td>265896</td>\n",
       "      <td>3701e153885d9529bbe886e630e65aaaf906e86714c5a5...</td>\n",
       "      <td>50bd7b27e3f55ceb68738acfd91352e3706556d9e111ea...</td>\n",
       "      <td>32400000000</td>\n",
       "      <td>50bd7b27e3f55ceb68738acfd91352e3706556d9e111ea...</td>\n",
       "      <td>7</td>\n",
       "    </tr>\n",
       "  </tbody>\n",
       "</table>\n",
       "</div>"
      ],
      "text/plain": [
       "                              address  block_height  \\\n",
       "0  1FfmbHfnpaZjKFvyi1okTjJJusN455paPH        265915   \n",
       "1  1FfmbHfnpaZjKFvyi1okTjJJusN455paPH        265873   \n",
       "2  1FfmbHfnpaZjKFvyi1okTjJJusN455paPH        265886   \n",
       "3  1FfmbHfnpaZjKFvyi1okTjJJusN455paPH        269637   \n",
       "4  1FfmbHfnpaZjKFvyi1okTjJJusN455paPH        265896   \n",
       "\n",
       "                                              output  \\\n",
       "0  7926f73eb5c233f90ffd060686c02d6cff49f66ad33b5d...   \n",
       "1  7aa5f401afc6392a17726e7750b1df2294afc36e00e38a...   \n",
       "2  ca7c7bcf9001355dc4e8dc8248e0b964332662a2e34151...   \n",
       "3  534bd2f7d7962c4b1e86ba511a4b08b86b7dcdc7451254...   \n",
       "4  3701e153885d9529bbe886e630e65aaaf906e86714c5a5...   \n",
       "\n",
       "                                               spend        value  \\\n",
       "0  50bd7b27e3f55ceb68738acfd91352e3706556d9e111ea...  32400000000   \n",
       "1  796684ce2c46c73eec4e67a4bd530603c2e05298550801...  32400000000   \n",
       "2  796684ce2c46c73eec4e67a4bd530603c2e05298550801...  32400000000   \n",
       "3  50bd7b27e3f55ceb68738acfd91352e3706556d9e111ea...        10000   \n",
       "4  50bd7b27e3f55ceb68738acfd91352e3706556d9e111ea...  32400000000   \n",
       "\n",
       "                                          spend_hash spend_post  \n",
       "0  50bd7b27e3f55ceb68738acfd91352e3706556d9e111ea...        153  \n",
       "1  796684ce2c46c73eec4e67a4bd530603c2e05298550801...        368  \n",
       "2  796684ce2c46c73eec4e67a4bd530603c2e05298550801...        111  \n",
       "3  50bd7b27e3f55ceb68738acfd91352e3706556d9e111ea...         26  \n",
       "4  50bd7b27e3f55ceb68738acfd91352e3706556d9e111ea...          7  "
      ]
     },
     "execution_count": 12,
     "metadata": {},
     "output_type": "execute_result"
    }
   ],
   "source": [
    "df.head()"
   ]
  },
  {
   "cell_type": "code",
   "execution_count": 14,
   "metadata": {},
   "outputs": [
    {
     "data": {
      "text/plain": [
       "796684ce2c46c73eec4e67a4bd530603c2e0529855080187cde241a6b06c2a5b    374\n",
       "50bd7b27e3f55ceb68738acfd91352e3706556d9e111ea40818bfb2b431dc45b    223\n",
       "Name: spend_hash, dtype: int64"
      ]
     },
     "execution_count": 14,
     "metadata": {},
     "output_type": "execute_result"
    }
   ],
   "source": [
    "# We can now see the two transactions that accumulated ~144000 BTC for the FBI\n",
    "df.spend_hash.value_counts()"
   ]
  },
  {
   "cell_type": "code",
   "execution_count": 17,
   "metadata": {},
   "outputs": [
    {
     "data": {
      "text/plain": [
       "5e07f07edbba07da566ea6c94cae7ff1fa3658b2ff24b0943072a9a0c5b51d47:1    1\n",
       "29b10cf64c5d86e0b8191fd9a37820b5b979be3d10a09fd5abcb5e763e6eb1cb:1    1\n",
       "8a3c6b3dd1a7d0e4d6162e855cd7dcfb89887ccfec08ffaf5490a4269b2a79d0:1    1\n",
       "55488979d4f894b7df74a41a5938a81532b47ed97c033138d73850f009339a26:0    1\n",
       "25bba051aebe7b9b767a345da4dfa6b26036b3e9bbb58c629d2a08710efd1405:0    1\n",
       "Name: output, dtype: int64"
      ]
     },
     "execution_count": 17,
     "metadata": {},
     "output_type": "execute_result"
    }
   ],
   "source": [
    "# We can now look at the individual transaction hashs that allowed the FBI to tumble the BTC into seized accounts \n",
    "output_count = df.output.value_counts()\n",
    "output_count.head()"
   ]
  },
  {
   "cell_type": "code",
   "execution_count": 18,
   "metadata": {},
   "outputs": [
    {
     "data": {
      "text/html": [
       "<div>\n",
       "<style scoped>\n",
       "    .dataframe tbody tr th:only-of-type {\n",
       "        vertical-align: middle;\n",
       "    }\n",
       "\n",
       "    .dataframe tbody tr th {\n",
       "        vertical-align: top;\n",
       "    }\n",
       "\n",
       "    .dataframe thead th {\n",
       "        text-align: right;\n",
       "    }\n",
       "</style>\n",
       "<table border=\"1\" class=\"dataframe\">\n",
       "  <thead>\n",
       "    <tr style=\"text-align: right;\">\n",
       "      <th></th>\n",
       "      <th>address</th>\n",
       "      <th>block_height</th>\n",
       "      <th>output</th>\n",
       "      <th>spend</th>\n",
       "      <th>value</th>\n",
       "      <th>spend_hash</th>\n",
       "      <th>spend_post</th>\n",
       "      <th>output_hash</th>\n",
       "    </tr>\n",
       "  </thead>\n",
       "  <tbody>\n",
       "    <tr>\n",
       "      <th>0</th>\n",
       "      <td>1FfmbHfnpaZjKFvyi1okTjJJusN455paPH</td>\n",
       "      <td>265915</td>\n",
       "      <td>7926f73eb5c233f90ffd060686c02d6cff49f66ad33b5d...</td>\n",
       "      <td>50bd7b27e3f55ceb68738acfd91352e3706556d9e111ea...</td>\n",
       "      <td>32400000000</td>\n",
       "      <td>50bd7b27e3f55ceb68738acfd91352e3706556d9e111ea...</td>\n",
       "      <td>153</td>\n",
       "      <td>7926f73eb5c233f90ffd060686c02d6cff49f66ad33b5d...</td>\n",
       "    </tr>\n",
       "    <tr>\n",
       "      <th>1</th>\n",
       "      <td>1FfmbHfnpaZjKFvyi1okTjJJusN455paPH</td>\n",
       "      <td>265873</td>\n",
       "      <td>7aa5f401afc6392a17726e7750b1df2294afc36e00e38a...</td>\n",
       "      <td>796684ce2c46c73eec4e67a4bd530603c2e05298550801...</td>\n",
       "      <td>32400000000</td>\n",
       "      <td>796684ce2c46c73eec4e67a4bd530603c2e05298550801...</td>\n",
       "      <td>368</td>\n",
       "      <td>7aa5f401afc6392a17726e7750b1df2294afc36e00e38a...</td>\n",
       "    </tr>\n",
       "    <tr>\n",
       "      <th>2</th>\n",
       "      <td>1FfmbHfnpaZjKFvyi1okTjJJusN455paPH</td>\n",
       "      <td>265886</td>\n",
       "      <td>ca7c7bcf9001355dc4e8dc8248e0b964332662a2e34151...</td>\n",
       "      <td>796684ce2c46c73eec4e67a4bd530603c2e05298550801...</td>\n",
       "      <td>32400000000</td>\n",
       "      <td>796684ce2c46c73eec4e67a4bd530603c2e05298550801...</td>\n",
       "      <td>111</td>\n",
       "      <td>ca7c7bcf9001355dc4e8dc8248e0b964332662a2e34151...</td>\n",
       "    </tr>\n",
       "    <tr>\n",
       "      <th>3</th>\n",
       "      <td>1FfmbHfnpaZjKFvyi1okTjJJusN455paPH</td>\n",
       "      <td>269637</td>\n",
       "      <td>534bd2f7d7962c4b1e86ba511a4b08b86b7dcdc7451254...</td>\n",
       "      <td>50bd7b27e3f55ceb68738acfd91352e3706556d9e111ea...</td>\n",
       "      <td>10000</td>\n",
       "      <td>50bd7b27e3f55ceb68738acfd91352e3706556d9e111ea...</td>\n",
       "      <td>26</td>\n",
       "      <td>534bd2f7d7962c4b1e86ba511a4b08b86b7dcdc7451254...</td>\n",
       "    </tr>\n",
       "    <tr>\n",
       "      <th>4</th>\n",
       "      <td>1FfmbHfnpaZjKFvyi1okTjJJusN455paPH</td>\n",
       "      <td>265896</td>\n",
       "      <td>3701e153885d9529bbe886e630e65aaaf906e86714c5a5...</td>\n",
       "      <td>50bd7b27e3f55ceb68738acfd91352e3706556d9e111ea...</td>\n",
       "      <td>32400000000</td>\n",
       "      <td>50bd7b27e3f55ceb68738acfd91352e3706556d9e111ea...</td>\n",
       "      <td>7</td>\n",
       "      <td>3701e153885d9529bbe886e630e65aaaf906e86714c5a5...</td>\n",
       "    </tr>\n",
       "  </tbody>\n",
       "</table>\n",
       "</div>"
      ],
      "text/plain": [
       "                              address  block_height  \\\n",
       "0  1FfmbHfnpaZjKFvyi1okTjJJusN455paPH        265915   \n",
       "1  1FfmbHfnpaZjKFvyi1okTjJJusN455paPH        265873   \n",
       "2  1FfmbHfnpaZjKFvyi1okTjJJusN455paPH        265886   \n",
       "3  1FfmbHfnpaZjKFvyi1okTjJJusN455paPH        269637   \n",
       "4  1FfmbHfnpaZjKFvyi1okTjJJusN455paPH        265896   \n",
       "\n",
       "                                              output  \\\n",
       "0  7926f73eb5c233f90ffd060686c02d6cff49f66ad33b5d...   \n",
       "1  7aa5f401afc6392a17726e7750b1df2294afc36e00e38a...   \n",
       "2  ca7c7bcf9001355dc4e8dc8248e0b964332662a2e34151...   \n",
       "3  534bd2f7d7962c4b1e86ba511a4b08b86b7dcdc7451254...   \n",
       "4  3701e153885d9529bbe886e630e65aaaf906e86714c5a5...   \n",
       "\n",
       "                                               spend        value  \\\n",
       "0  50bd7b27e3f55ceb68738acfd91352e3706556d9e111ea...  32400000000   \n",
       "1  796684ce2c46c73eec4e67a4bd530603c2e05298550801...  32400000000   \n",
       "2  796684ce2c46c73eec4e67a4bd530603c2e05298550801...  32400000000   \n",
       "3  50bd7b27e3f55ceb68738acfd91352e3706556d9e111ea...        10000   \n",
       "4  50bd7b27e3f55ceb68738acfd91352e3706556d9e111ea...  32400000000   \n",
       "\n",
       "                                          spend_hash spend_post  \\\n",
       "0  50bd7b27e3f55ceb68738acfd91352e3706556d9e111ea...        153   \n",
       "1  796684ce2c46c73eec4e67a4bd530603c2e05298550801...        368   \n",
       "2  796684ce2c46c73eec4e67a4bd530603c2e05298550801...        111   \n",
       "3  50bd7b27e3f55ceb68738acfd91352e3706556d9e111ea...         26   \n",
       "4  50bd7b27e3f55ceb68738acfd91352e3706556d9e111ea...          7   \n",
       "\n",
       "                                         output_hash  \n",
       "0  7926f73eb5c233f90ffd060686c02d6cff49f66ad33b5d...  \n",
       "1  7aa5f401afc6392a17726e7750b1df2294afc36e00e38a...  \n",
       "2  ca7c7bcf9001355dc4e8dc8248e0b964332662a2e34151...  \n",
       "3  534bd2f7d7962c4b1e86ba511a4b08b86b7dcdc7451254...  \n",
       "4  3701e153885d9529bbe886e630e65aaaf906e86714c5a5...  "
      ]
     },
     "execution_count": 18,
     "metadata": {},
     "output_type": "execute_result"
    }
   ],
   "source": [
    "# split the transaction hash from the sequence number \n",
    "df['output_hash'] = df['output'].str.split(':').str[0]\n",
    "# if you need the other part, uncomment below\n",
    "#df['output_post'] = df['output'].str.split(':').str[1]\n",
    "df.head()"
   ]
  },
  {
   "cell_type": "code",
   "execution_count": 20,
   "metadata": {},
   "outputs": [
    {
     "data": {
      "text/plain": [
       "4182012f648ab16d575d9d6ac4ebd917dad40c5a6bb1661be59d276962115079    1\n",
       "1e8ace8bcf91d51e95423d69a0f3d6aa1cec63514e3920325dd2eb8bb16581d6    1\n",
       "fca0479ff4bcba678af886c5cb80ab15720a9585598213e7a4090377a6dc0df7    1\n",
       "89900975c8face1088ae667670061deaf2ff1cda3af3e7b05a796bf4ae5b7bd9    1\n",
       "1c1699ea25dbd473094311352c193b63dc7f3ac1b3042ae792ae246823f59064    1\n",
       "Name: output_hash, dtype: int64"
      ]
     },
     "execution_count": 20,
     "metadata": {},
     "output_type": "execute_result"
    }
   ],
   "source": [
    "# We can now see the individual transaction hashes that accumulated ~144000 BTC for the FBI\n",
    "df.output_hash.value_counts().head()"
   ]
  },
  {
   "cell_type": "code",
   "execution_count": null,
   "metadata": {},
   "outputs": [],
   "source": []
  },
  {
   "cell_type": "code",
   "execution_count": null,
   "metadata": {},
   "outputs": [],
   "source": []
  },
  {
   "cell_type": "markdown",
   "metadata": {},
   "source": [
    "## Graph of Bitcoin from Origin Address"
   ]
  },
  {
   "cell_type": "code",
   "execution_count": 23,
   "metadata": {
    "collapsed": true
   },
   "outputs": [],
   "source": [
    "# import networkx and plot libraries\n",
    "import networkx as nx\n",
    "import matplotlib.pyplot as plt\n",
    "\n",
    "%matplotlib inline"
   ]
  },
  {
   "cell_type": "code",
   "execution_count": 25,
   "metadata": {},
   "outputs": [],
   "source": [
    "# create a new table with addresses and spend hashes\n",
    "# relabel table rows on unique addresses + spend hashes\n",
    "# reindex table with row labels\n",
    "df_adjacency = pd.crosstab(df.address, df.spend_hash)\n",
    "idx = df_adjacency.columns.union(df.address.unique())\n",
    "df_adjacency = df_adjacency.reindex(index=idx, columns=idx, fill_value=0)"
   ]
  },
  {
   "cell_type": "code",
   "execution_count": 26,
   "metadata": {},
   "outputs": [
    {
     "data": {
      "text/plain": [
       "Index(['1FfmbHfnpaZjKFvyi1okTjJJusN455paPH',\n",
       "       '50bd7b27e3f55ceb68738acfd91352e3706556d9e111ea40818bfb2b431dc45b',\n",
       "       '796684ce2c46c73eec4e67a4bd530603c2e0529855080187cde241a6b06c2a5b'],\n",
       "      dtype='object')"
      ]
     },
     "execution_count": 26,
     "metadata": {},
     "output_type": "execute_result"
    }
   ],
   "source": [
    "idx"
   ]
  },
  {
   "cell_type": "code",
   "execution_count": 27,
   "metadata": {},
   "outputs": [
    {
     "data": {
      "text/html": [
       "<div>\n",
       "<style scoped>\n",
       "    .dataframe tbody tr th:only-of-type {\n",
       "        vertical-align: middle;\n",
       "    }\n",
       "\n",
       "    .dataframe tbody tr th {\n",
       "        vertical-align: top;\n",
       "    }\n",
       "\n",
       "    .dataframe thead th {\n",
       "        text-align: right;\n",
       "    }\n",
       "</style>\n",
       "<table border=\"1\" class=\"dataframe\">\n",
       "  <thead>\n",
       "    <tr style=\"text-align: right;\">\n",
       "      <th></th>\n",
       "      <th>1FfmbHfnpaZjKFvyi1okTjJJusN455paPH</th>\n",
       "      <th>50bd7b27e3f55ceb68738acfd91352e3706556d9e111ea40818bfb2b431dc45b</th>\n",
       "      <th>796684ce2c46c73eec4e67a4bd530603c2e0529855080187cde241a6b06c2a5b</th>\n",
       "    </tr>\n",
       "  </thead>\n",
       "  <tbody>\n",
       "    <tr>\n",
       "      <th>1FfmbHfnpaZjKFvyi1okTjJJusN455paPH</th>\n",
       "      <td>0</td>\n",
       "      <td>223</td>\n",
       "      <td>374</td>\n",
       "    </tr>\n",
       "    <tr>\n",
       "      <th>50bd7b27e3f55ceb68738acfd91352e3706556d9e111ea40818bfb2b431dc45b</th>\n",
       "      <td>0</td>\n",
       "      <td>0</td>\n",
       "      <td>0</td>\n",
       "    </tr>\n",
       "    <tr>\n",
       "      <th>796684ce2c46c73eec4e67a4bd530603c2e0529855080187cde241a6b06c2a5b</th>\n",
       "      <td>0</td>\n",
       "      <td>0</td>\n",
       "      <td>0</td>\n",
       "    </tr>\n",
       "  </tbody>\n",
       "</table>\n",
       "</div>"
      ],
      "text/plain": [
       "                                                    1FfmbHfnpaZjKFvyi1okTjJJusN455paPH  \\\n",
       "1FfmbHfnpaZjKFvyi1okTjJJusN455paPH                                                   0   \n",
       "50bd7b27e3f55ceb68738acfd91352e3706556d9e111ea4...                                   0   \n",
       "796684ce2c46c73eec4e67a4bd530603c2e052985508018...                                   0   \n",
       "\n",
       "                                                    50bd7b27e3f55ceb68738acfd91352e3706556d9e111ea40818bfb2b431dc45b  \\\n",
       "1FfmbHfnpaZjKFvyi1okTjJJusN455paPH                                                                223                  \n",
       "50bd7b27e3f55ceb68738acfd91352e3706556d9e111ea4...                                                  0                  \n",
       "796684ce2c46c73eec4e67a4bd530603c2e052985508018...                                                  0                  \n",
       "\n",
       "                                                    796684ce2c46c73eec4e67a4bd530603c2e0529855080187cde241a6b06c2a5b  \n",
       "1FfmbHfnpaZjKFvyi1okTjJJusN455paPH                                                                374                 \n",
       "50bd7b27e3f55ceb68738acfd91352e3706556d9e111ea4...                                                  0                 \n",
       "796684ce2c46c73eec4e67a4bd530603c2e052985508018...                                                  0                 "
      ]
     },
     "execution_count": 27,
     "metadata": {},
     "output_type": "execute_result"
    }
   ],
   "source": [
    "df_adjacency"
   ]
  },
  {
   "cell_type": "code",
   "execution_count": 28,
   "metadata": {
    "collapsed": true
   },
   "outputs": [],
   "source": [
    "# created a directed graph of our table\n",
    "dpr_graph = nx.DiGraph(df_adjacency.values)"
   ]
  },
  {
   "cell_type": "code",
   "execution_count": 30,
   "metadata": {},
   "outputs": [
    {
     "data": {
      "image/png": "[encoded data removed]",
      "text/plain": [
       "<matplotlib.figure.Figure at 0x7f9086d4d710>"
      ]
     },
     "metadata": {},
     "output_type": "display_data"
    }
   ],
   "source": [
    "# plot the network\n",
    "nx.draw_networkx(dpr_graph, with_labels=True)"
   ]
  },
  {
   "cell_type": "code",
   "execution_count": null,
   "metadata": {
    "collapsed": true
   },
   "outputs": [],
   "source": []
  }
 ],
 "metadata": {
  "kernelspec": {
   "display_name": "Python 3",
   "language": "python",
   "name": "python3"
  },
  "language_info": {
   "codemirror_mode": {
    "name": "ipython",
    "version": 3
   },
   "file_extension": ".py",
   "mimetype": "text/x-python",
   "name": "python",
   "nbconvert_exporter": "python",
   "pygments_lexer": "ipython3",
   "version": "3.5.2"
  }
 },
 "nbformat": 4,
 "nbformat_minor": 2
}
