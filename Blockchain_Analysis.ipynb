{
 "cells": [
  {
   "cell_type": "markdown",
   "metadata": {
    "slideshow": {
     "slide_type": "-"
    }
   },
   "source": [
    "### Bitcoin Analysis Using Blockchain.info and BitcoinWhosWho"
   ]
  },
  {
   "cell_type": "markdown",
   "metadata": {},
   "source": [
    "In the process of performing my initial blockchain research, I wanted to work analysis of the Bitcoin blockchain into my larger research project. However, "
   ]
  },
  {
   "cell_type": "code",
   "execution_count": 1,
   "metadata": {
    "collapsed": true
   },
   "outputs": [],
   "source": [
    "# import library for blockchain.info API\n",
    "from bitcoin import *"
   ]
  },
  {
   "cell_type": "code",
   "execution_count": 2,
   "metadata": {},
   "outputs": [
    {
     "name": "stderr",
     "output_type": "stream",
     "text": [
      "Fetching more transactions... 50\n",
      "Fetching more transactions... 100\n",
      "Fetching more transactions... 150\n",
      "Fetching more transactions... 200\n",
      "Fetching more transactions... 250\n",
      "Fetching more transactions... 300\n",
      "Fetching more transactions... 350\n",
      "Fetching more transactions... 400\n",
      "Fetching more transactions... 450\n",
      "Fetching more transactions... 500\n",
      "Fetching more transactions... 550\n",
      "Fetching more transactions... 600\n",
      "Fetching more transactions... 650\n",
      "Fetching more transactions... 700\n"
     ]
    },
    {
     "data": {
      "text/plain": [
       "'\\naddress is the queried address on the Bitcoin blockchain\\nblock_height is the block upon which this transaction occured\\noutput is the transaction hash for the transfer of Bitcoin\\nvalue is the amount of Bitcoin in Satoshis (100 million Satoshis to 1 Bitcoin)\\n\\nI wanted to exams this address which allegedly belonged to Dread Pirate Roberts:\\nhttps://blockchain.info/address/1FfmbHfnpaZjKFvyi1okTjJJusN455paPH\\n\\n1FfmbHfnpaZjKFvyi1okTjJJusN455paPH\\n\\nThese are other potential projects:\\n\\n12cUHS93ZLNHqGmnUNgFecNNowYwVNy2Gi\\n1AF9hWRVHF2kdVCtrxmFUjLzB6tNuYqqpX\\n'"
      ]
     },
     "execution_count": 2,
     "metadata": {},
     "output_type": "execute_result"
    }
   ],
   "source": [
    "# now we're going to look as a Bitcoin address\n",
    "# pull the history for the address's transactions\n",
    "hist = history('1FfmbHfnpaZjKFvyi1okTjJJusN455paPH')\n",
    "\n",
    "'''\n",
    "address is the queried address on the Bitcoin blockchain\n",
    "block_height is the block upon which this transaction occured\n",
    "output is the transaction hash for the transfer of Bitcoin\n",
    "value is the amount of Bitcoin in Satoshis (100 million Satoshis to 1 Bitcoin)\n",
    "\n",
    "I wanted to exams this address which allegedly belonged to Dread Pirate Roberts:\n",
    "https://blockchain.info/address/1FfmbHfnpaZjKFvyi1okTjJJusN455paPH\n",
    "\n",
    "1FfmbHfnpaZjKFvyi1okTjJJusN455paPH\n",
    "\n",
    "These are other potential projects:\n",
    "\n",
    "12cUHS93ZLNHqGmnUNgFecNNowYwVNy2Gi\n",
    "1AF9hWRVHF2kdVCtrxmFUjLzB6tNuYqqpX\n",
    "'''"
   ]
  },
  {
   "cell_type": "code",
   "execution_count": 3,
   "metadata": {},
   "outputs": [
    {
     "data": {
      "text/plain": [
       "737"
      ]
     },
     "execution_count": 3,
     "metadata": {},
     "output_type": "execute_result"
    }
   ],
   "source": [
    "len(hist)"
   ]
  },
  {
   "cell_type": "markdown",
   "metadata": {},
   "source": [
    "### Analysis of address history"
   ]
  },
  {
   "cell_type": "code",
   "execution_count": 4,
   "metadata": {
    "collapsed": true
   },
   "outputs": [],
   "source": [
    "# import the libraries for analysis of Bitcoin data\n",
    "from pandas.io.json import json_normalize\n",
    "import pandas as pd"
   ]
  },
  {
   "cell_type": "code",
   "execution_count": 5,
   "metadata": {},
   "outputs": [
    {
     "data": {
      "text/html": [
       "<div>\n",
       "<style scoped>\n",
       "    .dataframe tbody tr th:only-of-type {\n",
       "        vertical-align: middle;\n",
       "    }\n",
       "\n",
       "    .dataframe tbody tr th {\n",
       "        vertical-align: top;\n",
       "    }\n",
       "\n",
       "    .dataframe thead th {\n",
       "        text-align: right;\n",
       "    }\n",
       "</style>\n",
       "<table border=\"1\" class=\"dataframe\">\n",
       "  <thead>\n",
       "    <tr style=\"text-align: right;\">\n",
       "      <th></th>\n",
       "      <th>address</th>\n",
       "      <th>block_height</th>\n",
       "      <th>output</th>\n",
       "      <th>spend</th>\n",
       "      <th>value</th>\n",
       "    </tr>\n",
       "  </thead>\n",
       "  <tbody>\n",
       "    <tr>\n",
       "      <th>0</th>\n",
       "      <td>1FfmbHfnpaZjKFvyi1okTjJJusN455paPH</td>\n",
       "      <td>265878</td>\n",
       "      <td>85978dbe65e70166995f1d7bf1a6b0dbd19a44103268c1...</td>\n",
       "      <td>50bd7b27e3f55ceb68738acfd91352e3706556d9e111ea...</td>\n",
       "      <td>32400000000</td>\n",
       "    </tr>\n",
       "    <tr>\n",
       "      <th>1</th>\n",
       "      <td>1FfmbHfnpaZjKFvyi1okTjJJusN455paPH</td>\n",
       "      <td>265911</td>\n",
       "      <td>94112e722b77136eecef9cd681174afc300c5dda7a99eb...</td>\n",
       "      <td>50bd7b27e3f55ceb68738acfd91352e3706556d9e111ea...</td>\n",
       "      <td>32400000000</td>\n",
       "    </tr>\n",
       "    <tr>\n",
       "      <th>2</th>\n",
       "      <td>1FfmbHfnpaZjKFvyi1okTjJJusN455paPH</td>\n",
       "      <td>281497</td>\n",
       "      <td>b759f2141d664aced6109aa2743dcfeb1513a396a29401...</td>\n",
       "      <td>50bd7b27e3f55ceb68738acfd91352e3706556d9e111ea...</td>\n",
       "      <td>10000</td>\n",
       "    </tr>\n",
       "    <tr>\n",
       "      <th>3</th>\n",
       "      <td>1FfmbHfnpaZjKFvyi1okTjJJusN455paPH</td>\n",
       "      <td>265887</td>\n",
       "      <td>00c028392c9f26481295593af367f582e8b35e4452970c...</td>\n",
       "      <td>796684ce2c46c73eec4e67a4bd530603c2e05298550801...</td>\n",
       "      <td>32400000000</td>\n",
       "    </tr>\n",
       "    <tr>\n",
       "      <th>4</th>\n",
       "      <td>1FfmbHfnpaZjKFvyi1okTjJJusN455paPH</td>\n",
       "      <td>280286</td>\n",
       "      <td>218f2feec31d2691c9968e17712f2bb1ee68d41528bda0...</td>\n",
       "      <td>796684ce2c46c73eec4e67a4bd530603c2e05298550801...</td>\n",
       "      <td>10000</td>\n",
       "    </tr>\n",
       "  </tbody>\n",
       "</table>\n",
       "</div>"
      ],
      "text/plain": [
       "                              address  block_height  \\\n",
       "0  1FfmbHfnpaZjKFvyi1okTjJJusN455paPH        265878   \n",
       "1  1FfmbHfnpaZjKFvyi1okTjJJusN455paPH        265911   \n",
       "2  1FfmbHfnpaZjKFvyi1okTjJJusN455paPH        281497   \n",
       "3  1FfmbHfnpaZjKFvyi1okTjJJusN455paPH        265887   \n",
       "4  1FfmbHfnpaZjKFvyi1okTjJJusN455paPH        280286   \n",
       "\n",
       "                                              output  \\\n",
       "0  85978dbe65e70166995f1d7bf1a6b0dbd19a44103268c1...   \n",
       "1  94112e722b77136eecef9cd681174afc300c5dda7a99eb...   \n",
       "2  b759f2141d664aced6109aa2743dcfeb1513a396a29401...   \n",
       "3  00c028392c9f26481295593af367f582e8b35e4452970c...   \n",
       "4  218f2feec31d2691c9968e17712f2bb1ee68d41528bda0...   \n",
       "\n",
       "                                               spend        value  \n",
       "0  50bd7b27e3f55ceb68738acfd91352e3706556d9e111ea...  32400000000  \n",
       "1  50bd7b27e3f55ceb68738acfd91352e3706556d9e111ea...  32400000000  \n",
       "2  50bd7b27e3f55ceb68738acfd91352e3706556d9e111ea...        10000  \n",
       "3  796684ce2c46c73eec4e67a4bd530603c2e05298550801...  32400000000  \n",
       "4  796684ce2c46c73eec4e67a4bd530603c2e05298550801...        10000  "
      ]
     },
     "execution_count": 5,
     "metadata": {},
     "output_type": "execute_result"
    }
   ],
   "source": [
    "hist_df = json_normalize(hist)\n",
    "hist_df.head(5)"
   ]
  },
  {
   "cell_type": "code",
   "execution_count": 6,
   "metadata": {},
   "outputs": [
    {
     "data": {
      "text/html": [
       "<div>\n",
       "<style scoped>\n",
       "    .dataframe tbody tr th:only-of-type {\n",
       "        vertical-align: middle;\n",
       "    }\n",
       "\n",
       "    .dataframe tbody tr th {\n",
       "        vertical-align: top;\n",
       "    }\n",
       "\n",
       "    .dataframe thead th {\n",
       "        text-align: right;\n",
       "    }\n",
       "</style>\n",
       "<table border=\"1\" class=\"dataframe\">\n",
       "  <thead>\n",
       "    <tr style=\"text-align: right;\">\n",
       "      <th></th>\n",
       "      <th>address</th>\n",
       "      <th>block_height</th>\n",
       "      <th>output</th>\n",
       "      <th>spend</th>\n",
       "      <th>value</th>\n",
       "    </tr>\n",
       "  </thead>\n",
       "  <tbody>\n",
       "    <tr>\n",
       "      <th>0</th>\n",
       "      <td>1FfmbHfnpaZjKFvyi1okTjJJusN455paPH</td>\n",
       "      <td>265878</td>\n",
       "      <td>85978dbe65e70166995f1d7bf1a6b0dbd19a44103268c1...</td>\n",
       "      <td>50bd7b27e3f55ceb68738acfd91352e3706556d9e111ea...</td>\n",
       "      <td>32400000000</td>\n",
       "    </tr>\n",
       "    <tr>\n",
       "      <th>1</th>\n",
       "      <td>1FfmbHfnpaZjKFvyi1okTjJJusN455paPH</td>\n",
       "      <td>265911</td>\n",
       "      <td>94112e722b77136eecef9cd681174afc300c5dda7a99eb...</td>\n",
       "      <td>50bd7b27e3f55ceb68738acfd91352e3706556d9e111ea...</td>\n",
       "      <td>32400000000</td>\n",
       "    </tr>\n",
       "    <tr>\n",
       "      <th>2</th>\n",
       "      <td>1FfmbHfnpaZjKFvyi1okTjJJusN455paPH</td>\n",
       "      <td>281497</td>\n",
       "      <td>b759f2141d664aced6109aa2743dcfeb1513a396a29401...</td>\n",
       "      <td>50bd7b27e3f55ceb68738acfd91352e3706556d9e111ea...</td>\n",
       "      <td>10000</td>\n",
       "    </tr>\n",
       "    <tr>\n",
       "      <th>3</th>\n",
       "      <td>1FfmbHfnpaZjKFvyi1okTjJJusN455paPH</td>\n",
       "      <td>265887</td>\n",
       "      <td>00c028392c9f26481295593af367f582e8b35e4452970c...</td>\n",
       "      <td>796684ce2c46c73eec4e67a4bd530603c2e05298550801...</td>\n",
       "      <td>32400000000</td>\n",
       "    </tr>\n",
       "    <tr>\n",
       "      <th>4</th>\n",
       "      <td>1FfmbHfnpaZjKFvyi1okTjJJusN455paPH</td>\n",
       "      <td>280286</td>\n",
       "      <td>218f2feec31d2691c9968e17712f2bb1ee68d41528bda0...</td>\n",
       "      <td>796684ce2c46c73eec4e67a4bd530603c2e05298550801...</td>\n",
       "      <td>10000</td>\n",
       "    </tr>\n",
       "  </tbody>\n",
       "</table>\n",
       "</div>"
      ],
      "text/plain": [
       "                              address  block_height  \\\n",
       "0  1FfmbHfnpaZjKFvyi1okTjJJusN455paPH        265878   \n",
       "1  1FfmbHfnpaZjKFvyi1okTjJJusN455paPH        265911   \n",
       "2  1FfmbHfnpaZjKFvyi1okTjJJusN455paPH        281497   \n",
       "3  1FfmbHfnpaZjKFvyi1okTjJJusN455paPH        265887   \n",
       "4  1FfmbHfnpaZjKFvyi1okTjJJusN455paPH        280286   \n",
       "\n",
       "                                              output  \\\n",
       "0  85978dbe65e70166995f1d7bf1a6b0dbd19a44103268c1...   \n",
       "1  94112e722b77136eecef9cd681174afc300c5dda7a99eb...   \n",
       "2  b759f2141d664aced6109aa2743dcfeb1513a396a29401...   \n",
       "3  00c028392c9f26481295593af367f582e8b35e4452970c...   \n",
       "4  218f2feec31d2691c9968e17712f2bb1ee68d41528bda0...   \n",
       "\n",
       "                                               spend        value  \n",
       "0  50bd7b27e3f55ceb68738acfd91352e3706556d9e111ea...  32400000000  \n",
       "1  50bd7b27e3f55ceb68738acfd91352e3706556d9e111ea...  32400000000  \n",
       "2  50bd7b27e3f55ceb68738acfd91352e3706556d9e111ea...        10000  \n",
       "3  796684ce2c46c73eec4e67a4bd530603c2e05298550801...  32400000000  \n",
       "4  796684ce2c46c73eec4e67a4bd530603c2e05298550801...        10000  "
      ]
     },
     "execution_count": 6,
     "metadata": {},
     "output_type": "execute_result"
    }
   ],
   "source": [
    "df = hist_df.copy()\n",
    "df.head()"
   ]
  },
  {
   "cell_type": "code",
   "execution_count": 7,
   "metadata": {},
   "outputs": [
    {
     "data": {
      "text/plain": [
       "1FfmbHfnpaZjKFvyi1okTjJJusN455paPH    737\n",
       "Name: address, dtype: int64"
      ]
     },
     "execution_count": 7,
     "metadata": {},
     "output_type": "execute_result"
    }
   ],
   "source": [
    "df.address.value_counts()"
   ]
  },
  {
   "cell_type": "code",
   "execution_count": 8,
   "metadata": {
    "scrolled": true
   },
   "outputs": [
    {
     "data": {
      "text/plain": [
       "50bd7b27e3f55ceb68738acfd91352e3706556d9e111ea40818bfb2b431dc45b:97     1\n",
       "796684ce2c46c73eec4e67a4bd530603c2e0529855080187cde241a6b06c2a5b:268    1\n",
       "50bd7b27e3f55ceb68738acfd91352e3706556d9e111ea40818bfb2b431dc45b:18     1\n",
       "796684ce2c46c73eec4e67a4bd530603c2e0529855080187cde241a6b06c2a5b:46     1\n",
       "50bd7b27e3f55ceb68738acfd91352e3706556d9e111ea40818bfb2b431dc45b:33     1\n",
       "Name: spend, dtype: int64"
      ]
     },
     "execution_count": 8,
     "metadata": {},
     "output_type": "execute_result"
    }
   ],
   "source": [
    "spend_count = df.spend.value_counts()\n",
    "spend_count.head()"
   ]
  },
  {
   "cell_type": "code",
   "execution_count": 9,
   "metadata": {
    "scrolled": true
   },
   "outputs": [
    {
     "data": {
      "text/plain": [
       "598"
      ]
     },
     "execution_count": 9,
     "metadata": {},
     "output_type": "execute_result"
    }
   ],
   "source": [
    "len(df.spend.unique())"
   ]
  },
  {
   "cell_type": "code",
   "execution_count": 10,
   "metadata": {},
   "outputs": [],
   "source": [
    "df['spend_addr'] = df['spend'].str.split(':').str[0]\n",
    "df['spend_post'] = df['spend'].str.split(':').str[1]"
   ]
  },
  {
   "cell_type": "code",
   "execution_count": 11,
   "metadata": {},
   "outputs": [
    {
     "data": {
      "text/html": [
       "<div>\n",
       "<style scoped>\n",
       "    .dataframe tbody tr th:only-of-type {\n",
       "        vertical-align: middle;\n",
       "    }\n",
       "\n",
       "    .dataframe tbody tr th {\n",
       "        vertical-align: top;\n",
       "    }\n",
       "\n",
       "    .dataframe thead th {\n",
       "        text-align: right;\n",
       "    }\n",
       "</style>\n",
       "<table border=\"1\" class=\"dataframe\">\n",
       "  <thead>\n",
       "    <tr style=\"text-align: right;\">\n",
       "      <th></th>\n",
       "      <th>address</th>\n",
       "      <th>block_height</th>\n",
       "      <th>output</th>\n",
       "      <th>spend</th>\n",
       "      <th>value</th>\n",
       "      <th>spend_addr</th>\n",
       "      <th>spend_post</th>\n",
       "    </tr>\n",
       "  </thead>\n",
       "  <tbody>\n",
       "    <tr>\n",
       "      <th>0</th>\n",
       "      <td>1FfmbHfnpaZjKFvyi1okTjJJusN455paPH</td>\n",
       "      <td>265878</td>\n",
       "      <td>85978dbe65e70166995f1d7bf1a6b0dbd19a44103268c1...</td>\n",
       "      <td>50bd7b27e3f55ceb68738acfd91352e3706556d9e111ea...</td>\n",
       "      <td>32400000000</td>\n",
       "      <td>50bd7b27e3f55ceb68738acfd91352e3706556d9e111ea...</td>\n",
       "      <td>15</td>\n",
       "    </tr>\n",
       "    <tr>\n",
       "      <th>1</th>\n",
       "      <td>1FfmbHfnpaZjKFvyi1okTjJJusN455paPH</td>\n",
       "      <td>265911</td>\n",
       "      <td>94112e722b77136eecef9cd681174afc300c5dda7a99eb...</td>\n",
       "      <td>50bd7b27e3f55ceb68738acfd91352e3706556d9e111ea...</td>\n",
       "      <td>32400000000</td>\n",
       "      <td>50bd7b27e3f55ceb68738acfd91352e3706556d9e111ea...</td>\n",
       "      <td>207</td>\n",
       "    </tr>\n",
       "    <tr>\n",
       "      <th>2</th>\n",
       "      <td>1FfmbHfnpaZjKFvyi1okTjJJusN455paPH</td>\n",
       "      <td>281497</td>\n",
       "      <td>b759f2141d664aced6109aa2743dcfeb1513a396a29401...</td>\n",
       "      <td>50bd7b27e3f55ceb68738acfd91352e3706556d9e111ea...</td>\n",
       "      <td>10000</td>\n",
       "      <td>50bd7b27e3f55ceb68738acfd91352e3706556d9e111ea...</td>\n",
       "      <td>194</td>\n",
       "    </tr>\n",
       "    <tr>\n",
       "      <th>3</th>\n",
       "      <td>1FfmbHfnpaZjKFvyi1okTjJJusN455paPH</td>\n",
       "      <td>265887</td>\n",
       "      <td>00c028392c9f26481295593af367f582e8b35e4452970c...</td>\n",
       "      <td>796684ce2c46c73eec4e67a4bd530603c2e05298550801...</td>\n",
       "      <td>32400000000</td>\n",
       "      <td>796684ce2c46c73eec4e67a4bd530603c2e05298550801...</td>\n",
       "      <td>47</td>\n",
       "    </tr>\n",
       "    <tr>\n",
       "      <th>4</th>\n",
       "      <td>1FfmbHfnpaZjKFvyi1okTjJJusN455paPH</td>\n",
       "      <td>280286</td>\n",
       "      <td>218f2feec31d2691c9968e17712f2bb1ee68d41528bda0...</td>\n",
       "      <td>796684ce2c46c73eec4e67a4bd530603c2e05298550801...</td>\n",
       "      <td>10000</td>\n",
       "      <td>796684ce2c46c73eec4e67a4bd530603c2e05298550801...</td>\n",
       "      <td>364</td>\n",
       "    </tr>\n",
       "  </tbody>\n",
       "</table>\n",
       "</div>"
      ],
      "text/plain": [
       "                              address  block_height  \\\n",
       "0  1FfmbHfnpaZjKFvyi1okTjJJusN455paPH        265878   \n",
       "1  1FfmbHfnpaZjKFvyi1okTjJJusN455paPH        265911   \n",
       "2  1FfmbHfnpaZjKFvyi1okTjJJusN455paPH        281497   \n",
       "3  1FfmbHfnpaZjKFvyi1okTjJJusN455paPH        265887   \n",
       "4  1FfmbHfnpaZjKFvyi1okTjJJusN455paPH        280286   \n",
       "\n",
       "                                              output  \\\n",
       "0  85978dbe65e70166995f1d7bf1a6b0dbd19a44103268c1...   \n",
       "1  94112e722b77136eecef9cd681174afc300c5dda7a99eb...   \n",
       "2  b759f2141d664aced6109aa2743dcfeb1513a396a29401...   \n",
       "3  00c028392c9f26481295593af367f582e8b35e4452970c...   \n",
       "4  218f2feec31d2691c9968e17712f2bb1ee68d41528bda0...   \n",
       "\n",
       "                                               spend        value  \\\n",
       "0  50bd7b27e3f55ceb68738acfd91352e3706556d9e111ea...  32400000000   \n",
       "1  50bd7b27e3f55ceb68738acfd91352e3706556d9e111ea...  32400000000   \n",
       "2  50bd7b27e3f55ceb68738acfd91352e3706556d9e111ea...        10000   \n",
       "3  796684ce2c46c73eec4e67a4bd530603c2e05298550801...  32400000000   \n",
       "4  796684ce2c46c73eec4e67a4bd530603c2e05298550801...        10000   \n",
       "\n",
       "                                          spend_addr spend_post  \n",
       "0  50bd7b27e3f55ceb68738acfd91352e3706556d9e111ea...         15  \n",
       "1  50bd7b27e3f55ceb68738acfd91352e3706556d9e111ea...        207  \n",
       "2  50bd7b27e3f55ceb68738acfd91352e3706556d9e111ea...        194  \n",
       "3  796684ce2c46c73eec4e67a4bd530603c2e05298550801...         47  \n",
       "4  796684ce2c46c73eec4e67a4bd530603c2e05298550801...        364  "
      ]
     },
     "execution_count": 11,
     "metadata": {},
     "output_type": "execute_result"
    }
   ],
   "source": [
    "df.head()"
   ]
  },
  {
   "cell_type": "code",
   "execution_count": 12,
   "metadata": {},
   "outputs": [
    {
     "data": {
      "text/plain": [
       "796684ce2c46c73eec4e67a4bd530603c2e0529855080187cde241a6b06c2a5b    374\n",
       "50bd7b27e3f55ceb68738acfd91352e3706556d9e111ea40818bfb2b431dc45b    223\n",
       "Name: spend_addr, dtype: int64"
      ]
     },
     "execution_count": 12,
     "metadata": {},
     "output_type": "execute_result"
    }
   ],
   "source": [
    "df.spend_addr.value_counts()"
   ]
  },
  {
   "cell_type": "code",
   "execution_count": 13,
   "metadata": {},
   "outputs": [
    {
     "data": {
      "text/plain": [
       "1FfmbHfnpaZjKFvyi1okTjJJusN455paPH    737\n",
       "Name: address, dtype: int64"
      ]
     },
     "execution_count": 13,
     "metadata": {},
     "output_type": "execute_result"
    }
   ],
   "source": [
    "df.address.value_counts()"
   ]
  },
  {
   "cell_type": "code",
   "execution_count": 14,
   "metadata": {},
   "outputs": [
    {
     "data": {
      "text/plain": [
       "84585d3aec377451edc0e24e038edee28d68915401d5e4974a37f3e823a54c90:0     1\n",
       "063a5a643504e884aba8bd639953e6506f5cff613fbe9201df6f2b1a76294794:1     1\n",
       "9d1dbbc5841f359d984f5aeca95e3f7c8745f9d84bb613bf3abf14c11e9911e8:0     1\n",
       "790aba371bc77e0aae94a6de63cc0238559f76aa07277bc1fb65b390f6af9f45:0     1\n",
       "9172ac010f8344c70f735bb5d7427649f9eae78a728a7cd6e6aa8173d5d54cf2:0     1\n",
       "c894555316807b486d641a6943f69bc6e73d2bdbce646917c7072097b4099ac9:0     1\n",
       "1dce05bda7bb5479d8e4d754ebcc4e98faa3799cbc64ae9d6649c164e166febe:0     1\n",
       "561c0e146846ab4e26a98219a09bd56392c2a05e3683b9efb102f91d771ee019:1     1\n",
       "46c4096b68dc31a1bceb3cf849bab20bfb10b4221e09697a90d53b1d2a76cb91:1     1\n",
       "ec5bcc09cfafdc05a03909601aa6a8b63f433369f02a088b52469430cd73a9dd:1     1\n",
       "92b303c2ae2dbc109632ad9b0966b82441f795454429858fccb5e9f403793af8:0     1\n",
       "2c63fcb14fd1ce3bc0ed0bc1a51bb9886de8b6ebe93b6f5640bb42952cdef758:0     1\n",
       "a2db61040762f67765cda29f080ab3d39b2438b8790553bd3b9f35a29eb6f46b:1     1\n",
       "5baaf4f915d0059b241711f10192da562c2960d2b3a6f10e7374f42bf0063e16:0     1\n",
       "398fa982a290949ec22d9ccd094ae82c10d7364f16c2284ab7c6926d010154d7:1     1\n",
       "c5323494de31d2ed382e910ef5f7b469c1d3152339e5ce1c69f1751a30d369cf:0     1\n",
       "6d228af6bd84087958ebd93e4fdc684a492b54f29299c1c64c184ecce7eb6a97:0     1\n",
       "4f2232acd1ba587dcf50c48035b4c0b58660739a93d5b380885d03189950ff4d:0     1\n",
       "7ea138a422ec8242ba3d66c1e9c114e52089ea454d8a17db90e2594ca824870b:0     1\n",
       "284aac51729e60c7c54b02906c1ae77d614759fb208471aacea83ed28663462e:0     1\n",
       "86adece1e7ec02c0973e377c060ca995b48a6ac115982d11b9dc644c798b158b:0     1\n",
       "fce94c2eb1e48c3c5df1029a032e7c4d9481580fc45a8cdf25a8c9e4168c4d21:0     1\n",
       "37669415f736c90693150c2ec540762bce5ec7d02041f65d2b405acb7bddbbec:0     1\n",
       "83721082a4ad96505d0f601282cd161aaa63066afd124f301ee02d65a1cf3523:0     1\n",
       "3e5c7bab81cdb4cf1ee6425736cd88ba5733de2ff5bffbc09165273a875fb392:0     1\n",
       "85978dbe65e70166995f1d7bf1a6b0dbd19a44103268c1807ce39f0598c2c027:0     1\n",
       "f55e2ef58a6a0f559536cbf871f4d50156e560db1e172df6a39e143196581d7a:0     1\n",
       "fd3eb538b74712e554b0d28d04e1073d3ba61296e6dba75d491d69905a60c61a:0     1\n",
       "ee8245e0926f067ff10e0fcc867d900aaab6f6c2fe885025ba7ae95bb14fde86:1     1\n",
       "cf4278a6d98516d055338df29c6201f4734e1b606720b2e37fc7f8ce20c205d0:1     1\n",
       "                                                                      ..\n",
       "88aa280da42b4f0110bbaf7ffe18db5ff94d7aa0deae32637c0b6a05a8e65074:0     1\n",
       "3579e63cc9466f10a25d5bd9b1e6b186300f90f1ce66758a977f67b7c6ed53a6:0     1\n",
       "5a0aed21b6b209a3d69b2dc305a80bd46d67003903567520ce7849da30e9078b:1     1\n",
       "479f2e8c9d3392a686a8addd5b95b5f5057c0268df2e39b0168c302167ae8fa8:1     1\n",
       "b2a584c0ef0fc2658942e835b3127afbfea12c0b0f97b021f657af800a5933e8:0     1\n",
       "3d538c30b9ce4b68da637186d5d5cc224d360b770c650a8adb3a8eb4638cc302:0     1\n",
       "7cd4f312e4b6a7f184eaa7a2e963f8da09f4047456a84aaad622551a62b00a9a:0     1\n",
       "b8ef7b56be23933e913a0daa989f2a01e16c8048095cb5e878b2d2081e1f3749:0     1\n",
       "7783e79668d258f017131e3f9cfda4bb2ae4a94723354be61dc7ad2fee1a7d9f:0     1\n",
       "e9468ff30ecf1800870a44af00027d8d9eb330e7e9f868e9974ff2640c60b246:0     1\n",
       "c23993acb12fb7edf6513c2235097ae240e1dcaf9a91233b46349c5518919039:0     1\n",
       "91adfa011e382e59593cd1d052b51c503173dd252082008e2abd88d99429cad4:0     1\n",
       "e438d732ceb921c61345d7eb0bfa23749f0493479ffbb0b72a950689cc2cba2f:0     1\n",
       "147bbb43ca3d54ab25e732c001548c35f3db671f40b0c092e6f72e5d4d5c08aa:1     1\n",
       "b81d0ce1e20bac0872009c0685f3b129e8125df42768c25fbce1242aa5f013de:1     1\n",
       "520d4f33b572db749abcc789590fa80c6953a458692ffa6d4246e6a467e9f508:0     1\n",
       "fcb3f73c7323f20f890d2ea0e244996fea1a2d4e256c3ae9a8588ee4f2e9dffb:0     1\n",
       "c389b125191c0a5153d0b040fd90bf3101f3313ff2cd768ecfcf173f9966ad18:0     1\n",
       "64043c491876df57465f7309290092c9c7d5692bf5c935f446fdbc99d11d7375:1     1\n",
       "ceb31226f9d985b517378248a608c9fc90e647515bac9a61afeb3f9592915216:1     1\n",
       "f5a30fb19a4c2bf762dde85e054a58d1069177ad2a2b24d56a14554455419b96:0     1\n",
       "abd1242931f4f032f8b32c0ccb156f73d7fe8958edc27868ad8a8a1bc4376fda:10    1\n",
       "2c39ed1e26aeba32954ab33e71aa90c5876a95e182636181aecc5d5dffabd5d0:1     1\n",
       "4fa5b6d04222a27919cfc8921bd9cffad3830ab060e9bd2073c2cc863bb23070:0     1\n",
       "80f066173c2346b529e77d4cafcd79ceff4c9944461d99a5ce7e7e51f88d0ce7:0     1\n",
       "802980b091590d7698988a1c0da8ccd2ddf19c287107e93d0d20e07f637623a1:1     1\n",
       "9cb34628d4c4f7d27aa5364c58837b1d1cbac619e5c9d43a0fe429fa686be2d0:0     1\n",
       "aa9c14f7bd229187291128b1bd7ad2f8f6b656c19a5c33c598020bb365dcf45b:1     1\n",
       "5d11e68ead23e029c17e6e60c36b72a5b4fd9bdd4672dfca074794d1b289ead6:0     1\n",
       "685c2746d35b829d1c68da3af15ff79731d57b257837a4f1dc5a229d2f48dd5c:1     1\n",
       "Name: output, Length: 737, dtype: int64"
      ]
     },
     "execution_count": 14,
     "metadata": {},
     "output_type": "execute_result"
    }
   ],
   "source": [
    "df.output.value_counts()"
   ]
  },
  {
   "cell_type": "code",
   "execution_count": null,
   "metadata": {},
   "outputs": [],
   "source": []
  }
 ],
 "metadata": {
  "kernelspec": {
   "display_name": "Python 3",
   "language": "python",
   "name": "python3"
  },
  "language_info": {
   "codemirror_mode": {
    "name": "ipython",
    "version": 3
   },
   "file_extension": ".py",
   "mimetype": "text/x-python",
   "name": "python",
   "nbconvert_exporter": "python",
   "pygments_lexer": "ipython3",
   "version": "3.5.2"
  }
 },
 "nbformat": 4,
 "nbformat_minor": 2
}
